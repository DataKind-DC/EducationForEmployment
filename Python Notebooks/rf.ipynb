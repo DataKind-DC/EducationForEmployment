{
 "cells": [
  {
   "cell_type": "code",
   "execution_count": 1,
   "id": "41139730-0af9-49f0-9ecf-aa29d47d6b44",
   "metadata": {},
   "outputs": [],
   "source": [
    "from pathlib import Path\n",
    "\n",
    "import numpy as np\n",
    "import pandas as pd\n",
    "import matplotlib.pyplot as plt\n",
    "from sklearn.ensemble import RandomForestClassifier"
   ]
  },
  {
   "cell_type": "code",
   "execution_count": 2,
   "id": "a46a2ef2-71b8-4af9-8673-daba48211a52",
   "metadata": {},
   "outputs": [],
   "source": [
    "data_dir = Path.cwd().parent / \"Data\"\n",
    "\n",
    "contacts = data_dir / \"Volunteer Augmented Data\" / \"Contacts_YW.csv\"\n",
    "\n",
    "df = pd.read_csv(contacts)"
   ]
  },
  {
   "cell_type": "code",
   "execution_count": 3,
   "id": "758ac1ed-42da-4e8f-be3b-2b7f47c67bf7",
   "metadata": {},
   "outputs": [],
   "source": [
    "df = df.iloc[:, 2:]"
   ]
  },
  {
   "cell_type": "code",
   "execution_count": 4,
   "id": "894bf4e0-8069-414c-b411-3018e4fcd877",
   "metadata": {
    "tags": []
   },
   "outputs": [],
   "source": [
    "cols = [\n",
    "    \"Speaks.English\",\n",
    "    \"Speaks.Arabic\",\n",
    "    \"Speaks.Amazigh\",\n",
    "    \"Speaks.French\",\n",
    "    \"Age\",\n",
    "    \"Currently.Studying\",\n",
    "    \"Current.Institution.Type\",\n",
    "    \"X..of.Days.Since.Graduation\",\n",
    "    \"Mailing.City\",\n",
    "    \"MailingState\",\n",
    "    \"Number.Days.Until.Job.Placement\",\n",
    "    \"Retained.Job.as.of.last.Status.Check\",\n",
    "    \"Continuously.Working\",\n",
    "    \"X..Of.Days.Continuously.Working\",\n",
    "    \"At.Grad.Job.Placement\",\n",
    "    \"At.Grad.Placement.Data.Available\",\n",
    "    \"X3.Month.Job.Placement\",\n",
    "    \"X3.Month.Placement.Data.Available\",\n",
    "    \"X6.Month.Job.Placement\",\n",
    "    \"X6.Month.Placement.Data.Available\",\n",
    "    \"X9.Month.Job.Placement\",\n",
    "    \"X9.Month.Placement.Data.Available\",\n",
    "    \"X12.Month.Job.Placement\",\n",
    "    \"X12.Month.Placement.Data.Available\",\n",
    "    \"X3.Month.Job.Retention\",\n",
    "    \"X3.Month.Continuously.Working\",\n",
    "    \"X3.Month.Post.Placement.Data.Avail.YES\",\n",
    "    \"X6.Month.Job.Retention\",\n",
    "    \"X6.Month.Continuously.Working\",\n",
    "    \"X6.Month.Post.Placement.Data.Avail.YES\",\n",
    "    \"X9.Month.Job.Retention\",\n",
    "    \"X9.Month.Continuously.Working\",\n",
    "    \"X9.Month.Post.Placement.Data.Avail.YES\",\n",
    "    \"X12.Month.Job.Retention\",\n",
    "    \"X12.Month.Continuously.Working\",\n",
    "    \"X12.Month.Post.Placement.Data.Avail.YES\",\n",
    "    \"Number.Family.Members\",\n",
    "    \"Number.Family.Members.Working\",\n",
    "    \"Monthly.Family.Income\",\n",
    "    \"Job.Tenure.in.Months..First.\",\n",
    "    \"First.Previous.Job.Salary\",\n",
    "    \"Job.Tenure.in.Months..Second.\",\n",
    "    \"Second.Previous.Job.Salary\",\n",
    "    \"Job.Tenure.in.Months..Third.\",\n",
    "    \"Third.Previous.Job.Salary\",\n",
    "    \"Lives.in.IDP.camp.or.shelter.\",\n",
    "    \"NumApps\",\n",
    "    \"Grad170days\",\n",
    "    \"Retain6mo\",\n",
    "    \"working6mo\",\n",
    "    \"CohortDK\",\n",
    "    \"MailingState.1\",\n",
    "]\n"
   ]
  },
  {
   "cell_type": "code",
   "execution_count": 5,
   "id": "1618e7a5-2fc5-4136-89f8-5bc533056f25",
   "metadata": {
    "tags": []
   },
   "outputs": [],
   "source": [
    "drop = [\n",
    "    \"Retained.Job.as.of.last.Status.Check\",\n",
    "    \"Continuously.Working\",\n",
    "    \"X..Of.Days.Continuously.Working\",\n",
    "    \"X3.Month.Job.Retention\",\n",
    "    \"X3.Month.Continuously.Working\",\n",
    "    \"X3.Month.Post.Placement.Data.Avail.YES\",\n",
    "    \"X6.Month.Job.Retention\",\n",
    "    \"X6.Month.Continuously.Working\",\n",
    "    \"X6.Month.Post.Placement.Data.Avail.YES\",\n",
    "    \"X9.Month.Job.Retention\",\n",
    "    \"X9.Month.Continuously.Working\",\n",
    "    \"X9.Month.Post.Placement.Data.Avail.YES\",\n",
    "    \"X12.Month.Job.Retention\",\n",
    "    \"X12.Month.Continuously.Working\",\n",
    "    \"X12.Month.Post.Placement.Data.Avail.YES\",\n",
    "    \"Job.Tenure.in.Months..First.\",\n",
    "    \"Job.Tenure.in.Months..Second.\",\n",
    "    \"Job.Tenure.in.Months..Third.\",\n",
    "    \"Retain6mo\",\n",
    "    \"working6mo\",\n",
    "]\n"
   ]
  },
  {
   "cell_type": "code",
   "execution_count": 6,
   "id": "2af93e1d-351d-4f38-ae4f-626c8e4f7a30",
   "metadata": {
    "tags": []
   },
   "outputs": [],
   "source": [
    "X = df.drop(drop, axis=1)"
   ]
  },
  {
   "cell_type": "code",
   "execution_count": 7,
   "id": "4a8e8e1e-9e39-45ce-a33c-21b16416c2a5",
   "metadata": {},
   "outputs": [],
   "source": [
    "X = X.select_dtypes(np.number)"
   ]
  },
  {
   "cell_type": "code",
   "execution_count": 8,
   "id": "56355f6d-33f2-4b41-81a0-483b1bf4d1fe",
   "metadata": {},
   "outputs": [],
   "source": [
    "X = X.dropna(axis=1)"
   ]
  },
  {
   "cell_type": "code",
   "execution_count": 9,
   "id": "5c0ddf86-f5be-4fa2-b295-6d5038232992",
   "metadata": {},
   "outputs": [],
   "source": [
    "X = X.iloc[:, 2:]"
   ]
  },
  {
   "cell_type": "code",
   "execution_count": 10,
   "id": "2397dd5f-c492-4aea-ae99-6619ea438c1b",
   "metadata": {
    "tags": []
   },
   "outputs": [
    {
     "data": {
      "text/plain": [
       "Speaks.Arabic                  0\n",
       "Speaks.Amazigh                 0\n",
       "Speaks.French                  0\n",
       "Age                            0\n",
       "Currently.Studying             0\n",
       "X..of.Days.Since.Graduation    0\n",
       "placement_grad                 0\n",
       "placement_grad_data            0\n",
       "placement_3                    0\n",
       "placement_3_data               0\n",
       "placement_6                    0\n",
       "placement_6_data               0\n",
       "placement_9                    0\n",
       "placement_9_data               0\n",
       "placement_12                   0\n",
       "placement_12_data              0\n",
       "NumApps                        0\n",
       "Grad170days                    0\n",
       "dtype: int64"
      ]
     },
     "execution_count": 10,
     "metadata": {},
     "output_type": "execute_result"
    }
   ],
   "source": [
    "X.isna().sum()"
   ]
  },
  {
   "cell_type": "code",
   "execution_count": 11,
   "id": "be33dbfb-2470-4cb2-9515-766a50502fe9",
   "metadata": {},
   "outputs": [],
   "source": [
    "df = pd.concat([X, df[\"Retain6mo\"]], axis=1)"
   ]
  },
  {
   "cell_type": "code",
   "execution_count": 12,
   "id": "caed93ff-5e09-4fed-94dd-bcd71e09f450",
   "metadata": {},
   "outputs": [],
   "source": [
    "df = df.dropna()"
   ]
  },
  {
   "cell_type": "code",
   "execution_count": 13,
   "id": "baa351d1-d8da-45e7-801b-853e20f06cac",
   "metadata": {},
   "outputs": [
    {
     "data": {
      "text/html": [
       "<div>\n",
       "<style scoped>\n",
       "    .dataframe tbody tr th:only-of-type {\n",
       "        vertical-align: middle;\n",
       "    }\n",
       "\n",
       "    .dataframe tbody tr th {\n",
       "        vertical-align: top;\n",
       "    }\n",
       "\n",
       "    .dataframe thead th {\n",
       "        text-align: right;\n",
       "    }\n",
       "</style>\n",
       "<table border=\"1\" class=\"dataframe\">\n",
       "  <thead>\n",
       "    <tr style=\"text-align: right;\">\n",
       "      <th></th>\n",
       "      <th>Speaks.Arabic</th>\n",
       "      <th>Speaks.Amazigh</th>\n",
       "      <th>Speaks.French</th>\n",
       "      <th>Age</th>\n",
       "      <th>Currently.Studying</th>\n",
       "      <th>X..of.Days.Since.Graduation</th>\n",
       "      <th>placement_grad</th>\n",
       "      <th>placement_grad_data</th>\n",
       "      <th>placement_3</th>\n",
       "      <th>placement_3_data</th>\n",
       "      <th>placement_6</th>\n",
       "      <th>placement_6_data</th>\n",
       "      <th>placement_9</th>\n",
       "      <th>placement_9_data</th>\n",
       "      <th>placement_12</th>\n",
       "      <th>placement_12_data</th>\n",
       "      <th>NumApps</th>\n",
       "      <th>Grad170days</th>\n",
       "      <th>Retain6mo</th>\n",
       "    </tr>\n",
       "  </thead>\n",
       "  <tbody>\n",
       "    <tr>\n",
       "      <th>0</th>\n",
       "      <td>1</td>\n",
       "      <td>0</td>\n",
       "      <td>1</td>\n",
       "      <td>22</td>\n",
       "      <td>0</td>\n",
       "      <td>517</td>\n",
       "      <td>1</td>\n",
       "      <td>1</td>\n",
       "      <td>1</td>\n",
       "      <td>1</td>\n",
       "      <td>1</td>\n",
       "      <td>1</td>\n",
       "      <td>1</td>\n",
       "      <td>1</td>\n",
       "      <td>1</td>\n",
       "      <td>1</td>\n",
       "      <td>1</td>\n",
       "      <td>1</td>\n",
       "      <td>0.0</td>\n",
       "    </tr>\n",
       "    <tr>\n",
       "      <th>1</th>\n",
       "      <td>1</td>\n",
       "      <td>0</td>\n",
       "      <td>1</td>\n",
       "      <td>29</td>\n",
       "      <td>0</td>\n",
       "      <td>278</td>\n",
       "      <td>1</td>\n",
       "      <td>1</td>\n",
       "      <td>1</td>\n",
       "      <td>1</td>\n",
       "      <td>1</td>\n",
       "      <td>1</td>\n",
       "      <td>1</td>\n",
       "      <td>1</td>\n",
       "      <td>1</td>\n",
       "      <td>1</td>\n",
       "      <td>1</td>\n",
       "      <td>1</td>\n",
       "      <td>1.0</td>\n",
       "    </tr>\n",
       "    <tr>\n",
       "      <th>2</th>\n",
       "      <td>1</td>\n",
       "      <td>0</td>\n",
       "      <td>1</td>\n",
       "      <td>26</td>\n",
       "      <td>0</td>\n",
       "      <td>516</td>\n",
       "      <td>1</td>\n",
       "      <td>1</td>\n",
       "      <td>1</td>\n",
       "      <td>1</td>\n",
       "      <td>1</td>\n",
       "      <td>1</td>\n",
       "      <td>1</td>\n",
       "      <td>1</td>\n",
       "      <td>1</td>\n",
       "      <td>1</td>\n",
       "      <td>1</td>\n",
       "      <td>1</td>\n",
       "      <td>0.0</td>\n",
       "    </tr>\n",
       "    <tr>\n",
       "      <th>3</th>\n",
       "      <td>1</td>\n",
       "      <td>0</td>\n",
       "      <td>0</td>\n",
       "      <td>23</td>\n",
       "      <td>0</td>\n",
       "      <td>595</td>\n",
       "      <td>0</td>\n",
       "      <td>1</td>\n",
       "      <td>0</td>\n",
       "      <td>1</td>\n",
       "      <td>1</td>\n",
       "      <td>1</td>\n",
       "      <td>1</td>\n",
       "      <td>1</td>\n",
       "      <td>1</td>\n",
       "      <td>1</td>\n",
       "      <td>1</td>\n",
       "      <td>1</td>\n",
       "      <td>0.0</td>\n",
       "    </tr>\n",
       "    <tr>\n",
       "      <th>4</th>\n",
       "      <td>1</td>\n",
       "      <td>0</td>\n",
       "      <td>1</td>\n",
       "      <td>26</td>\n",
       "      <td>0</td>\n",
       "      <td>278</td>\n",
       "      <td>1</td>\n",
       "      <td>1</td>\n",
       "      <td>1</td>\n",
       "      <td>1</td>\n",
       "      <td>1</td>\n",
       "      <td>1</td>\n",
       "      <td>1</td>\n",
       "      <td>1</td>\n",
       "      <td>1</td>\n",
       "      <td>1</td>\n",
       "      <td>1</td>\n",
       "      <td>1</td>\n",
       "      <td>1.0</td>\n",
       "    </tr>\n",
       "  </tbody>\n",
       "</table>\n",
       "</div>"
      ],
      "text/plain": [
       "   Speaks.Arabic  Speaks.Amazigh  Speaks.French  Age  Currently.Studying  \\\n",
       "0              1               0              1   22                   0   \n",
       "1              1               0              1   29                   0   \n",
       "2              1               0              1   26                   0   \n",
       "3              1               0              0   23                   0   \n",
       "4              1               0              1   26                   0   \n",
       "\n",
       "   X..of.Days.Since.Graduation  placement_grad  placement_grad_data  \\\n",
       "0                          517               1                    1   \n",
       "1                          278               1                    1   \n",
       "2                          516               1                    1   \n",
       "3                          595               0                    1   \n",
       "4                          278               1                    1   \n",
       "\n",
       "   placement_3  placement_3_data  placement_6  placement_6_data  placement_9  \\\n",
       "0            1                 1            1                 1            1   \n",
       "1            1                 1            1                 1            1   \n",
       "2            1                 1            1                 1            1   \n",
       "3            0                 1            1                 1            1   \n",
       "4            1                 1            1                 1            1   \n",
       "\n",
       "   placement_9_data  placement_12  placement_12_data  NumApps  Grad170days  \\\n",
       "0                 1             1                  1        1            1   \n",
       "1                 1             1                  1        1            1   \n",
       "2                 1             1                  1        1            1   \n",
       "3                 1             1                  1        1            1   \n",
       "4                 1             1                  1        1            1   \n",
       "\n",
       "   Retain6mo  \n",
       "0        0.0  \n",
       "1        1.0  \n",
       "2        0.0  \n",
       "3        0.0  \n",
       "4        1.0  "
      ]
     },
     "execution_count": 13,
     "metadata": {},
     "output_type": "execute_result"
    }
   ],
   "source": [
    "df.head()"
   ]
  },
  {
   "cell_type": "code",
   "execution_count": 14,
   "id": "444a15bd-be43-43ff-86b8-9401d9e119ce",
   "metadata": {},
   "outputs": [],
   "source": [
    "y = df[\"Retain6mo\"]"
   ]
  },
  {
   "cell_type": "code",
   "execution_count": 15,
   "id": "cbba093c-4b47-4ead-bfe4-691cfd760410",
   "metadata": {},
   "outputs": [],
   "source": [
    "X = df.drop(\"Retain6mo\", axis=1)"
   ]
  },
  {
   "cell_type": "code",
   "execution_count": 16,
   "id": "294f45ba-32e1-4b22-9f72-72003b8f246d",
   "metadata": {},
   "outputs": [],
   "source": [
    "rf = RandomForestClassifier()"
   ]
  },
  {
   "cell_type": "code",
   "execution_count": 17,
   "id": "0f7eb566-e8f4-4bcb-9c5c-4db8667842de",
   "metadata": {},
   "outputs": [
    {
     "data": {
      "text/plain": [
       "0.0    1500\n",
       "1.0    1429\n",
       "Name: Retain6mo, dtype: int64"
      ]
     },
     "execution_count": 17,
     "metadata": {},
     "output_type": "execute_result"
    }
   ],
   "source": [
    "y.value_counts()"
   ]
  },
  {
   "cell_type": "code",
   "execution_count": 18,
   "id": "b8c60ef7-e635-4d9f-97c0-e624dae9d735",
   "metadata": {},
   "outputs": [
    {
     "data": {
      "text/html": [
       "<style>#sk-container-id-1 {color: black;background-color: white;}#sk-container-id-1 pre{padding: 0;}#sk-container-id-1 div.sk-toggleable {background-color: white;}#sk-container-id-1 label.sk-toggleable__label {cursor: pointer;display: block;width: 100%;margin-bottom: 0;padding: 0.3em;box-sizing: border-box;text-align: center;}#sk-container-id-1 label.sk-toggleable__label-arrow:before {content: \"▸\";float: left;margin-right: 0.25em;color: #696969;}#sk-container-id-1 label.sk-toggleable__label-arrow:hover:before {color: black;}#sk-container-id-1 div.sk-estimator:hover label.sk-toggleable__label-arrow:before {color: black;}#sk-container-id-1 div.sk-toggleable__content {max-height: 0;max-width: 0;overflow: hidden;text-align: left;background-color: #f0f8ff;}#sk-container-id-1 div.sk-toggleable__content pre {margin: 0.2em;color: black;border-radius: 0.25em;background-color: #f0f8ff;}#sk-container-id-1 input.sk-toggleable__control:checked~div.sk-toggleable__content {max-height: 200px;max-width: 100%;overflow: auto;}#sk-container-id-1 input.sk-toggleable__control:checked~label.sk-toggleable__label-arrow:before {content: \"▾\";}#sk-container-id-1 div.sk-estimator input.sk-toggleable__control:checked~label.sk-toggleable__label {background-color: #d4ebff;}#sk-container-id-1 div.sk-label input.sk-toggleable__control:checked~label.sk-toggleable__label {background-color: #d4ebff;}#sk-container-id-1 input.sk-hidden--visually {border: 0;clip: rect(1px 1px 1px 1px);clip: rect(1px, 1px, 1px, 1px);height: 1px;margin: -1px;overflow: hidden;padding: 0;position: absolute;width: 1px;}#sk-container-id-1 div.sk-estimator {font-family: monospace;background-color: #f0f8ff;border: 1px dotted black;border-radius: 0.25em;box-sizing: border-box;margin-bottom: 0.5em;}#sk-container-id-1 div.sk-estimator:hover {background-color: #d4ebff;}#sk-container-id-1 div.sk-parallel-item::after {content: \"\";width: 100%;border-bottom: 1px solid gray;flex-grow: 1;}#sk-container-id-1 div.sk-label:hover label.sk-toggleable__label {background-color: #d4ebff;}#sk-container-id-1 div.sk-serial::before {content: \"\";position: absolute;border-left: 1px solid gray;box-sizing: border-box;top: 0;bottom: 0;left: 50%;z-index: 0;}#sk-container-id-1 div.sk-serial {display: flex;flex-direction: column;align-items: center;background-color: white;padding-right: 0.2em;padding-left: 0.2em;position: relative;}#sk-container-id-1 div.sk-item {position: relative;z-index: 1;}#sk-container-id-1 div.sk-parallel {display: flex;align-items: stretch;justify-content: center;background-color: white;position: relative;}#sk-container-id-1 div.sk-item::before, #sk-container-id-1 div.sk-parallel-item::before {content: \"\";position: absolute;border-left: 1px solid gray;box-sizing: border-box;top: 0;bottom: 0;left: 50%;z-index: -1;}#sk-container-id-1 div.sk-parallel-item {display: flex;flex-direction: column;z-index: 1;position: relative;background-color: white;}#sk-container-id-1 div.sk-parallel-item:first-child::after {align-self: flex-end;width: 50%;}#sk-container-id-1 div.sk-parallel-item:last-child::after {align-self: flex-start;width: 50%;}#sk-container-id-1 div.sk-parallel-item:only-child::after {width: 0;}#sk-container-id-1 div.sk-dashed-wrapped {border: 1px dashed gray;margin: 0 0.4em 0.5em 0.4em;box-sizing: border-box;padding-bottom: 0.4em;background-color: white;}#sk-container-id-1 div.sk-label label {font-family: monospace;font-weight: bold;display: inline-block;line-height: 1.2em;}#sk-container-id-1 div.sk-label-container {text-align: center;}#sk-container-id-1 div.sk-container {/* jupyter's `normalize.less` sets `[hidden] { display: none; }` but bootstrap.min.css set `[hidden] { display: none !important; }` so we also need the `!important` here to be able to override the default hidden behavior on the sphinx rendered scikit-learn.org. See: https://github.com/scikit-learn/scikit-learn/issues/21755 */display: inline-block !important;position: relative;}#sk-container-id-1 div.sk-text-repr-fallback {display: none;}</style><div id=\"sk-container-id-1\" class=\"sk-top-container\"><div class=\"sk-text-repr-fallback\"><pre>RandomForestClassifier()</pre><b>In a Jupyter environment, please rerun this cell to show the HTML representation or trust the notebook. <br />On GitHub, the HTML representation is unable to render, please try loading this page with nbviewer.org.</b></div><div class=\"sk-container\" hidden><div class=\"sk-item\"><div class=\"sk-estimator sk-toggleable\"><input class=\"sk-toggleable__control sk-hidden--visually\" id=\"sk-estimator-id-1\" type=\"checkbox\" checked><label for=\"sk-estimator-id-1\" class=\"sk-toggleable__label sk-toggleable__label-arrow\">RandomForestClassifier</label><div class=\"sk-toggleable__content\"><pre>RandomForestClassifier()</pre></div></div></div></div></div>"
      ],
      "text/plain": [
       "RandomForestClassifier()"
      ]
     },
     "execution_count": 18,
     "metadata": {},
     "output_type": "execute_result"
    }
   ],
   "source": [
    "rf.fit(X, y)"
   ]
  },
  {
   "cell_type": "code",
   "execution_count": 19,
   "id": "b07cba9d-0d3d-4e8d-9f01-139bb65e9b36",
   "metadata": {},
   "outputs": [],
   "source": [
    "plt.rcParams['figure.dpi'] = 300"
   ]
  },
  {
   "cell_type": "code",
   "execution_count": 20,
   "id": "3e303c2d-4c64-43ef-b342-36b8134a127f",
   "metadata": {},
   "outputs": [
    {
     "data": {
      "image/png": "[encoded data removed]",
      "text/plain": [
       "<Figure size 432x288 with 1 Axes>"
      ]
     },
     "metadata": {
      "needs_background": "light"
     },
     "output_type": "display_data"
    }
   ],
   "source": [
    "from sklearn.inspection import permutation_importance\n",
    "\n",
    "result = permutation_importance(\n",
    "    rf, X, y, n_repeats=10, random_state=42, n_jobs=2\n",
    ")\n",
    "\n",
    "sorted_importances_idx = result.importances_mean.argsort()\n",
    "importances = pd.DataFrame(\n",
    "    result.importances[sorted_importances_idx].T,\n",
    "    columns=X.columns[sorted_importances_idx],\n",
    ")\n",
    "ax = importances.plot.box(vert=False, whis=10)\n",
    "ax.set_title(\"Permutation Importances (test set)\")\n",
    "ax.axvline(x=0, color=\"k\", linestyle=\"--\")\n",
    "ax.set_xlabel(\"Decrease in accuracy score\")\n",
    "ax.figure.tight_layout()"
   ]
  }
 ],
 "metadata": {
  "kernelspec": {
   "display_name": "Python 3 (ipykernel)",
   "language": "python",
   "name": "python3"
  },
  "language_info": {
   "codemirror_mode": {
    "name": "ipython",
    "version": 3
   },
   "file_extension": ".py",
   "mimetype": "text/x-python",
   "name": "python",
   "nbconvert_exporter": "python",
   "pygments_lexer": "ipython3",
   "version": "3.9.6"
  }
 },
 "nbformat": 4,
 "nbformat_minor": 5
}
